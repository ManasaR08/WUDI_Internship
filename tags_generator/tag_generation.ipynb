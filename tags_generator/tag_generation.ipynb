{
 "cells": [
  {
   "cell_type": "code",
   "execution_count": 12,
   "metadata": {},
   "outputs": [
    {
     "name": "stdout",
     "output_type": "stream",
     "text": [
      "[('learning', 9), ('reinforcement', 8), ('environment', 8), ('football', 7), ('research', 6), ('google', 5), ('games', 5), ('algorithms', 4), ('agents', 4), ('provide', 3), ('novel', 3), ('challenging', 3), ('video', 2), ('variety', 2), ('trained', 2), ('solve', 2), ('smart', 2), ('scenarios', 2), ('quickly', 2), ('progress', 2), ('physics', 2), ('multi', 2), ('ideas', 2), ('environments', 2), ('either', 2), ('culty', 2), ('agent', 2), ('world', 1), ('withthefootballacademyandshowcaseseveralpromising', 1), ('while', 1), ('virtual', 1), ('vironmentortheyfocusonasingleaspectofreinforcement', 1), ('vinyals', 1), ('vides', 1), ('varying', 1), ('university', 1), ('train', 1), ('touseandcustomize', 1), ('tools', 1), ('tionalresources', 1), ('three', 1), ('thishighlightstheneedforarlenvironmentthatisnot', 1), ('testedinasafeandreproduciblemanner', 1), ('tested', 1), ('terms', 1), ('tasks', 1), ('tactics', 1), ('sylvaingelly', 1), ('sutton', 1), ('support', 1), ('suchanenvironmentshouldide', 1), ('student', 1), ('strategiesatmultiplelevelsofabstraction', 1), ('state', 1), ('starcraft', 1), ('standpoint', 1), ('source', 1), ('simulator', 1), ('simpler', 1), ('simple', 1), ('similarly', 1), ('silver', 1), ('shipatgooglebrain', 1), ('section', 1), ('ronments', 1), ('resulting', 1), ('resources', 1), ('researchdirections', 1), ('requiring', 1), ('require', 1), ('reproducible', 1), ('recent', 1), ('reason', 1), ('rapid', 1), ('putational', 1), ('provides', 1), ('propose', 1), ('professionally', 1), ('problems', 1), ('power', 1), ('played', 1), ('piotrstan', 1), ('openai', 1), ('olivierbousquet', 1), ('olivierbachem', 1), ('ogale', 1), ('often', 1), ('multiplayer', 1), ('moreover', 1), ('modeling', 1), ('model', 1), ('micha', 1), ('marcinmichalski', 1), ('manylearningenvironmentsareinherentlysingleplayerby', 1), ('manner', 1), ('making', 1), ('license', 1), ('learningsuchascontinuouscontrolorsafety', 1), ('learningresearchtopicssuchastheimpactofstochasticity', 1), ('learn', 1), ('lazic', 1), ('lasseespeholt', 1), ('large', 1), ('kurach', 1), ('krizhevsky', 1), ('known', 1), ('kkurach', 1), ('karolkurach', 1), ('karol', 1), ('jagiellonian', 1), ('introduction', 1), ('introduce', 1), ('intern', 1), ('interaction', 1), ('interact', 1), ('intelligence', 1), ('ingenvironmentsmayhaverestrictivelicensesordependon', 1), ('indicates', 1), ('increasing', 1), ('impala', 1), ('iconic', 1), ('haarnojaetal', 1), ('googleresearch', 1), ('github', 1), ('fueled', 1), ('finally', 1), ('figure', 1), ('experiments', 1), ('exist', 1), ('equal', 1), ('driving', 1), ('drawbacks', 1), ('diverse', 1), ('discuss', 1), ('deterministic', 1), ('detail', 1), ('decisions', 1), ('damienvincent', 1), ('customiz', 1), ('current', 1), ('correspondence', 1), ('copyright', 1), ('control', 1), ('console', 1), ('complex', 1), ('closedsourcebinaries', 1), ('ciency', 1), ('chess', 1), ('centers', 1), ('cationsincluderobotics', 1), ('carlosriquelme', 1), ('brainteam', 1), ('bothintermsoflicensingandintermsofrequiredcomputa', 1), ('benchmarksandreportbaselineresultsforthreecommonly', 1), ('bellemare', 1), ('basedreinforcement', 1), ('based3dsimulation', 1), ('based', 1), ('barto', 1), ('bansal', 1), ('authorship', 1), ('atari', 1), ('associationfortheadvancementofarti', 1), ('appli', 1), ('antonraichuk', 1), ('anditisavailableunderapermissive', 1), ('ancient', 1), ('amounts', 1), ('allrightsreserved', 1), ('agentsetupsandmodel', 1), ('advanced', 1), ('advance', 1), ('addition', 1), ('accessible', 1), ('access', 1), ('accelerated', 1), ('abstract', 1)]\n"
     ]
    },
    {
     "data": {
      "text/plain": [
       "<map at 0x197b48c0f98>"
      ]
     },
     "execution_count": 12,
     "metadata": {},
     "output_type": "execute_result"
    }
   ],
   "source": [
    "f = open(\"preprocessed_text.txt\", \"r\",encoding=\"utf-8\")\n",
    "text = f.read()\n",
    "\n",
    "BAD_CHARS = \".!?,\\'\\\"\"\n",
    "\n",
    "# transform text into a list words--removing punctuation and filtering small words\n",
    "words = [ word.strip(BAD_CHARS) for word in text.strip().split() if len(word) > 4 ]\n",
    "\n",
    "word_freq = {}\n",
    "\n",
    "# generate a 'word histogram' for the text--ie, a list of the frequencies of each word\n",
    "for word in words :\n",
    "  word_freq[word] = word_freq.get(word, 0) + 1\n",
    "\n",
    "# sort the word list by frequency \n",
    "# (just a DSU sort, there's a python built-in for this, but i can't remember it)\n",
    "tx = [ (v, k) for (k, v) in word_freq.items()]\n",
    "tx.sort(reverse=True)\n",
    "word_freq_sorted = [ (k, v) for (v, k) in tx ]\n",
    "\n",
    "# eg, what are the most common words in that text?\n",
    "print(word_freq_sorted)\n",
    "# returns: [('which', 4), ('other', 4), ('like', 4), ('what', 3), ('upon', 3)]\n",
    "# obviously using a text larger than 50 or so words will give you more meaningful results\n",
    "\n",
    "term_importance = lambda word : 1.0/word_freq[word]\n",
    "\n",
    "# select document keywords from the words at/near the top of this list:\n",
    "map(term_importance, word_freq.keys())"
   ]
  },
  {
   "cell_type": "code",
   "execution_count": 4,
   "metadata": {},
   "outputs": [
    {
     "name": "stderr",
     "output_type": "stream",
     "text": [
      "[nltk_data] Downloading package genesis to\n",
      "[nltk_data]     C:\\Users\\USER\\AppData\\Roaming\\nltk_data...\n",
      "[nltk_data]   Unzipping corpora\\genesis.zip.\n"
     ]
    },
    {
     "data": {
      "text/plain": [
       "True"
      ]
     },
     "execution_count": 4,
     "metadata": {},
     "output_type": "execute_result"
    }
   ],
   "source": [
    "nltk.download('genesis')"
   ]
  },
  {
   "cell_type": "code",
   "execution_count": 11,
   "metadata": {},
   "outputs": [
    {
     "data": {
      "text/plain": [
       "[('preprocessed_text.txt', 1)]"
      ]
     },
     "execution_count": 11,
     "metadata": {},
     "output_type": "execute_result"
    }
   ],
   "source": [
    "word_freq_sorted"
   ]
  },
  {
   "cell_type": "code",
   "execution_count": null,
   "metadata": {},
   "outputs": [],
   "source": []
  }
 ],
 "metadata": {
  "kernelspec": {
   "display_name": "Python 3",
   "language": "python",
   "name": "python3"
  },
  "language_info": {
   "codemirror_mode": {
    "name": "ipython",
    "version": 3
   },
   "file_extension": ".py",
   "mimetype": "text/x-python",
   "name": "python",
   "nbconvert_exporter": "python",
   "pygments_lexer": "ipython3",
   "version": "3.6.8"
  }
 },
 "nbformat": 4,
 "nbformat_minor": 2
}
